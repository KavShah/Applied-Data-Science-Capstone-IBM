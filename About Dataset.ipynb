{
 "cells": [
  {
   "cell_type": "markdown",
   "metadata": {},
   "source": [
    "## Content\n",
    "\n",
    "This dataset includes long-term (about 10 months) check-in data in New York city and Tokyo collected from Foursquare from 12 April 2012 to 16 February 2013.\n",
    "\n",
    "It contains two files in tsv format. \n",
    "Each file contains 8 columns, which are:\n",
    "\n",
    "User ID (anonymized)\n",
    "\n",
    "Venue ID (Foursquare)\n",
    "Venue category ID (Foursquare)\n",
    "Venue category name (Fousquare)\n",
    "\n",
    "Latitude\n",
    "Longitude\n",
    "\n",
    "Timezone offset in minutes (The offset in minutes between when this check-in occurred and the same time in UTC)\n",
    "UTC time\n",
    "The file datasetTSMC2014NYC.txt contains 227428 check-ins in New York city.\n",
    "The file datasetTSMC2014TKY.txt contains 537703 check-ins in Tokyo."
   ]
  }
 ],
 "metadata": {
  "kernelspec": {
   "display_name": "Python 3",
   "language": "python",
   "name": "python3"
  },
  "language_info": {
   "codemirror_mode": {
    "name": "ipython",
    "version": 3
   },
   "file_extension": ".py",
   "mimetype": "text/x-python",
   "name": "python",
   "nbconvert_exporter": "python",
   "pygments_lexer": "ipython3",
   "version": "3.6.8"
  }
 },
 "nbformat": 4,
 "nbformat_minor": 2
}
